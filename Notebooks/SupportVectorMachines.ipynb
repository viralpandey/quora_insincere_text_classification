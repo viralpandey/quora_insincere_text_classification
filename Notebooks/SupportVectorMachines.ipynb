{
 "cells": [
  {
   "cell_type": "code",
   "execution_count": 5,
   "metadata": {
    "collapsed": true
   },
   "outputs": [],
   "source": [
    "import warnings\n",
    "warnings.filterwarnings(\"ignore\")\n",
    "import numpy as np\n",
    "import pandas as pd \n",
    "from sklearn.model_selection import train_test_split\n",
    "from sklearn.feature_extraction.text import TfidfVectorizer, CountVectorizer\n",
    "from sklearn.metrics import f1_score\n",
    "from sklearn.manifold import TSNE\n",
    "from sklearn.linear_model import LogisticRegression\n",
    "from sklearn.metrics import log_loss,confusion_matrix,classification_report,roc_curve,auc\n",
    "from sklearn.metrics import precision_recall_curve, accuracy_score, precision_score, recall_score, f1_score\n",
    "from sklearn.svm import SVC"
   ]
  },
  {
   "cell_type": "code",
   "execution_count": 2,
   "metadata": {
    "collapsed": true
   },
   "outputs": [],
   "source": [
    "#load the data\n",
    "train = pd.read_csv(\"train.csv\")\n",
    "train.head()\n",
    "\n",
    "from sklearn.model_selection import train_test_split\n",
    "\n",
    "train_df, test_df = train_test_split(train, test_size=0.20, random_state=42)"
   ]
  },
  {
   "cell_type": "code",
   "execution_count": 3,
   "metadata": {
    "collapsed": true
   },
   "outputs": [],
   "source": [
    "from sklearn.feature_extraction.text import TfidfVectorizer\n",
    "\n",
    "vect_word = TfidfVectorizer(max_features=10000, lowercase=True, analyzer='word',stop_words= 'english',ngram_range=(1,2),dtype=np.float32)\n",
    "train_original = train_df\n",
    "test_original = test_df\n",
    "train_df = train_original.sample(frac = 0.05)\n",
    "test_df = test_original.sample(frac = 0.05)\n",
    "tr_vect = vect_word.fit_transform(train_df['question_text'])\n",
    "ts_vect = vect_word.transform(test_df['question_text'])"
   ]
  },
  {
   "cell_type": "markdown",
   "metadata": {},
   "source": [
    "### SVM with linear kernel"
   ]
  },
  {
   "cell_type": "code",
   "execution_count": 6,
   "metadata": {},
   "outputs": [
    {
     "name": "stdout",
     "output_type": "stream",
     "text": [
      "accuracy 0.9470178393691142\n",
      "precision 0.6644295302013423\n",
      "recall 0.25063291139240507\n",
      "              precision    recall  f1-score   support\n",
      "\n",
      "           0       0.95      0.99      0.97     12271\n",
      "           1       0.66      0.25      0.36       790\n",
      "\n",
      "   micro avg       0.95      0.95      0.95     13061\n",
      "   macro avg       0.81      0.62      0.67     13061\n",
      "weighted avg       0.94      0.95      0.94     13061\n",
      "\n"
     ]
    }
   ],
   "source": [
    "model = SVC(kernel='linear')\n",
    "svm_linear = model.fit(tr_vect,train_df['target'])\n",
    "preds = svm_linear.predict(ts_vect)\n",
    "\n",
    "\n",
    "accuracy = accuracy_score(test_df['target'], preds)\n",
    "print 'accuracy', accuracy\n",
    "precision = precision_score(test_df['target'], preds)\n",
    "print 'precision', precision\n",
    "recall = recall_score(test_df['target'], preds)\n",
    "print 'recall', recall\n",
    "f1_score = f1_score(test_df['target'], preds)\n",
    "\n",
    "print classification_report(test_df['target'], preds)"
   ]
  },
  {
   "cell_type": "markdown",
   "metadata": {},
   "source": [
    "### SVM with Poly kernel"
   ]
  },
  {
   "cell_type": "markdown",
   "metadata": {},
   "source": [
    "#### Degree = 2"
   ]
  },
  {
   "cell_type": "code",
   "execution_count": 7,
   "metadata": {},
   "outputs": [
    {
     "name": "stdout",
     "output_type": "stream",
     "text": [
      "accuracy 0.9366829361661403\n",
      "precision 0.0\n",
      "recall 0.0\n",
      "              precision    recall  f1-score   support\n",
      "\n",
      "           0       0.94      1.00      0.97     48937\n",
      "           1       0.00      0.00      0.00      3308\n",
      "\n",
      "   micro avg       0.94      0.94      0.94     52245\n",
      "   macro avg       0.47      0.50      0.48     52245\n",
      "weighted avg       0.88      0.94      0.91     52245\n",
      "\n"
     ]
    }
   ],
   "source": [
    "model = SVC(kernel='poly', degree=2)\n",
    "svm_linear = model.fit(tr_vect,train_df['target'])\n",
    "preds = svm_linear.predict(tr_vect)\n",
    "\n",
    "\n",
    "accuracy = accuracy_score(train_df['target'], preds)\n",
    "print 'accuracy', accuracy\n",
    "precision = precision_score(train_df['target'], preds)\n",
    "print 'precision', precision\n",
    "recall = recall_score(train_df['target'], preds)\n",
    "print 'recall', recall\n",
    "\n",
    "print classification_report(train_df['target'], preds)"
   ]
  },
  {
   "cell_type": "markdown",
   "metadata": {},
   "source": [
    "#### Degree = 3"
   ]
  },
  {
   "cell_type": "code",
   "execution_count": 8,
   "metadata": {},
   "outputs": [
    {
     "name": "stdout",
     "output_type": "stream",
     "text": [
      "accuracy 0.9395145854069367\n",
      "precision 0.0\n",
      "recall 0.0\n",
      "              precision    recall  f1-score   support\n",
      "\n",
      "           0       0.94      1.00      0.97     12271\n",
      "           1       0.00      0.00      0.00       790\n",
      "\n",
      "   micro avg       0.94      0.94      0.94     13061\n",
      "   macro avg       0.47      0.50      0.48     13061\n",
      "weighted avg       0.88      0.94      0.91     13061\n",
      "\n"
     ]
    }
   ],
   "source": [
    "model = SVC(kernel='poly', degree=1)\n",
    "svm_linear = model.fit(tr_vect,train_df['target'])\n",
    "preds = svm_linear.predict(ts_vect)\n",
    "\n",
    "\n",
    "accuracy = accuracy_score(test_df['target'], preds)\n",
    "print 'accuracy', accuracy\n",
    "precision = precision_score(test_df['target'], preds)\n",
    "print 'precision', precision\n",
    "recall = recall_score(test_df['target'], preds)\n",
    "print 'recall', recall\n",
    "\n",
    "print classification_report(test_df['target'], preds)"
   ]
  },
  {
   "cell_type": "markdown",
   "metadata": {},
   "source": [
    "#### Degree= 4"
   ]
  },
  {
   "cell_type": "code",
   "execution_count": 9,
   "metadata": {},
   "outputs": [
    {
     "name": "stdout",
     "output_type": "stream",
     "text": [
      "0.9395145854069367\n",
      "precision 0.0\n",
      "recall 0.0\n",
      "              precision    recall  f1-score   support\n",
      "\n",
      "           0       0.94      1.00      0.97     12271\n",
      "           1       0.00      0.00      0.00       790\n",
      "\n",
      "   micro avg       0.94      0.94      0.94     13061\n",
      "   macro avg       0.47      0.50      0.48     13061\n",
      "weighted avg       0.88      0.94      0.91     13061\n",
      "\n"
     ]
    }
   ],
   "source": [
    "model = SVC(kernel='poly', degree=4)\n",
    "svm_linear = model.fit(tr_vect,train_df['target'])\n",
    "preds = svm_linear.predict(ts_vect)\n",
    "\n",
    "\n",
    "accuracy = accuracy_score(test_df['target'], preds)\n",
    "print accuracy\n",
    "precision = precision_score(test_df['target'], preds)\n",
    "print 'precision', precision\n",
    "recall = recall_score(test_df['target'], preds)\n",
    "print 'recall', recall\n",
    "\n",
    "print classification_report(test_df['target'], preds)"
   ]
  },
  {
   "cell_type": "markdown",
   "metadata": {},
   "source": [
    "#### Degree = 5"
   ]
  },
  {
   "cell_type": "code",
   "execution_count": 10,
   "metadata": {},
   "outputs": [
    {
     "name": "stdout",
     "output_type": "stream",
     "text": [
      "0.9395145854069367\n",
      "precision 0.0\n",
      "recall 0.0\n",
      "              precision    recall  f1-score   support\n",
      "\n",
      "           0       0.94      1.00      0.97     12271\n",
      "           1       0.00      0.00      0.00       790\n",
      "\n",
      "   micro avg       0.94      0.94      0.94     13061\n",
      "   macro avg       0.47      0.50      0.48     13061\n",
      "weighted avg       0.88      0.94      0.91     13061\n",
      "\n"
     ]
    }
   ],
   "source": [
    "model = SVC(kernel='poly', degree=5)\n",
    "svm_linear = model.fit(tr_vect,train_df['target'])\n",
    "preds = svm_linear.predict(ts_vect)\n",
    "\n",
    "\n",
    "accuracy = accuracy_score(test_df['target'], preds)\n",
    "print accuracy\n",
    "precision = precision_score(test_df['target'], preds)\n",
    "print 'precision', precision\n",
    "recall = recall_score(test_df['target'], preds)\n",
    "print 'recall', recall\n",
    "\n",
    "print classification_report(test_df['target'], preds)"
   ]
  }
 ],
 "metadata": {
  "kernelspec": {
   "display_name": "Python 2",
   "language": "python",
   "name": "python2"
  },
  "language_info": {
   "codemirror_mode": {
    "name": "ipython",
    "version": 2
   },
   "file_extension": ".py",
   "mimetype": "text/x-python",
   "name": "python",
   "nbconvert_exporter": "python",
   "pygments_lexer": "ipython2",
   "version": "2.7.15"
  }
 },
 "nbformat": 4,
 "nbformat_minor": 2
}
