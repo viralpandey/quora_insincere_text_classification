{
 "cells": [
  {
   "cell_type": "code",
   "execution_count": 1,
   "metadata": {
    "_cell_guid": "79c7e3d0-c299-4dcb-8224-4455121ee9b0",
    "_uuid": "d629ff2d2480ee46fbb7e2d37f6b5fab8052498a"
   },
   "outputs": [
    {
     "name": "stderr",
     "output_type": "stream",
     "text": [
      "Using TensorFlow backend.\n"
     ]
    }
   ],
   "source": [
    "from keras.preprocessing.text import Tokenizer\n",
    "from keras.preprocessing.sequence import pad_sequences\n",
    "import numpy as np \n",
    "import pandas as pd\n",
    "from tqdm import tqdm\n",
    "import math\n",
    "from sklearn.model_selection import train_test_split\n",
    "from keras.models import Sequential\n",
    "from keras.layers import LSTM, Dense, Bidirectional"
   ]
  },
  {
   "cell_type": "markdown",
   "metadata": {
    "_uuid": "21f85dfd5b9bf3d8b27ba29149d52253e5d64049"
   },
   "source": [
    "# Reading the Data"
   ]
  },
  {
   "cell_type": "code",
   "execution_count": 2,
   "metadata": {
    "_uuid": "78578eab64a477d0a5ad6b1c917ae154868a44df",
    "collapsed": true
   },
   "outputs": [],
   "source": [
    "train_df = pd.read_csv(\"/Users/viralpandey/Downloads/Data/quora-insincere-questions-classification/train.csv\")\n",
    "\n",
    "x_train, x_valid, y_train, y_valid = train_test_split(train_df.question_text, train_df.target, \n",
    "                                                  stratify=train.target, \n",
    "                                                  random_state=42, \n",
    "                                                  test_size=0.1, shuffle=True)\n",
    "\n",
    "xtrain = x_train.sample(frac = 0.05)\n",
    "xvalid = x_valid.sample(frac = 0.05)\n",
    "ytrain = y_train.sample(frac = 0.05)\n",
    "yvalid = y_valid.sample(frac = 0.05)\n",
    "\n",
    "token = text.Tokenizer(num_words=None)\n",
    "max_len = 50\n",
    "\n",
    "token.fit_on_texts(list(xtrain) + list(xvalid))\n",
    "xtrain_seq = token.texts_to_sequences(xtrain)\n",
    "xtrain_pad = sequence.pad_sequences(xtrain_seq, maxlen=max_len)\n",
    "xvalid_seq = token.texts_to_sequences(xvalid)\n",
    "xvalid_pad = sequence.pad_sequences(xvalid_seq, maxlen=max_len)\n",
    "word_index = token.word_index"
   ]
  },
  {
   "cell_type": "markdown",
   "metadata": {
    "_uuid": "706c0224b6112e5a8f00ad25f35e90fbb9519a5f"
   },
   "source": [
    "### Creatingword Embeddings and Building the Model"
   ]
  },
  {
   "cell_type": "code",
   "execution_count": 9,
   "metadata": {
    "_uuid": "9ad418c95b31ab5691d49b72c7c9622ef9ea42cf"
   },
   "outputs": [
    {
     "name": "stdout",
     "output_type": "stream",
     "text": [
      "WARNING:tensorflow:From /anaconda3/lib/python3.7/site-packages/tensorflow/python/framework/op_def_library.py:263: colocate_with (from tensorflow.python.framework.ops) is deprecated and will be removed in a future version.\n",
      "Instructions for updating:\n",
      "Colocations handled automatically by placer.\n"
     ]
    }
   ],
   "source": [
    "# create an embedding matrix for the words we have in the dataset\n",
    "EMBEDDING_FILE = 'glove.840B.300d.txt'\n",
    "\n",
    "def embeddings(word,*arr): \n",
    "    return word, np.asarray(arr, dtype='float32')\n",
    "\n",
    "embeddings_index = dict(embeddings(*o.split(\" \")) for o in open(EMBEDDING_FILE))\n",
    "\n",
    "embedding_matrix = np.zeros((len(word_index) + 1, 300))\n",
    "for word, i in tqdm(word_index.items()):\n",
    "    embedding_vector = embeddings_index.get(word)\n",
    "    if embedding_vector is not None:\n",
    "        embedding_matrix[i] = embedding_vector\n",
    "        \n",
    "        \n",
    "model = Sequential()\n",
    "model.add(Embedding(len(word_index) + 1,\n",
    "                     300,\n",
    "                     weights=[embedding_matrix],\n",
    "                     input_length=max_len,\n",
    "                     trainable=False))\n",
    "model.add(Bidirectional(LSTM(100, return_sequences=True),\n",
    "                        input_shape=(30, 300)))\n",
    "model.add(Dense(1, activation=\"sigmoid\"))\n",
    "model.add(Dropout(0.8))\n",
    "\n",
    "model.compile(loss='binary_crossentropy',\n",
    "              optimizer='adam',\n",
    "              metrics=['accuracy'])"
   ]
  },
  {
   "cell_type": "code",
   "execution_count": 10,
   "metadata": {
    "_uuid": "3f0b703ded691293450beb4ddf2d903d0e08c737"
   },
   "outputs": [
    {
     "name": "stdout",
     "output_type": "stream",
     "text": [
      "WARNING:tensorflow:From /anaconda3/lib/python3.7/site-packages/tensorflow/python/ops/math_ops.py:3066: to_int32 (from tensorflow.python.ops.math_ops) is deprecated and will be removed in a future version.\n",
      "Instructions for updating:\n",
      "Use tf.cast instead.\n",
      "Epoch 1/20\n",
      "1000/1000 [==============================] - 114s 114ms/step - loss: 0.1361 - acc: 0.9476 - val_loss: 0.1059 - val_acc: 0.9573\n",
      "Epoch 2/20\n",
      "1000/1000 [==============================] - 105s 105ms/step - loss: 0.1189 - acc: 0.9534 - val_loss: 0.0989 - val_acc: 0.9620\n",
      "Epoch 3/20\n",
      "1000/1000 [==============================] - 105s 105ms/step - loss: 0.1143 - acc: 0.9545 - val_loss: 0.1006 - val_acc: 0.9607\n",
      "Epoch 4/20\n",
      "1000/1000 [==============================] - 104s 104ms/step - loss: 0.1125 - acc: 0.9554 - val_loss: 0.0968 - val_acc: 0.9623\n",
      "Epoch 5/20\n",
      "1000/1000 [==============================] - 101s 101ms/step - loss: 0.1100 - acc: 0.9566 - val_loss: 0.0999 - val_acc: 0.9630\n",
      "Epoch 6/20\n",
      "1000/1000 [==============================] - 100s 100ms/step - loss: 0.1101 - acc: 0.9570 - val_loss: 0.0997 - val_acc: 0.9583\n",
      "Epoch 7/20\n",
      "1000/1000 [==============================] - 100s 100ms/step - loss: 0.1074 - acc: 0.9579 - val_loss: 0.0977 - val_acc: 0.9593\n",
      "Epoch 8/20\n",
      "1000/1000 [==============================] - 100s 100ms/step - loss: 0.1053 - acc: 0.9588 - val_loss: 0.0968 - val_acc: 0.9597\n",
      "Epoch 9/20\n",
      "1000/1000 [==============================] - 99s 99ms/step - loss: 0.1067 - acc: 0.9579 - val_loss: 0.0984 - val_acc: 0.9610\n",
      "Epoch 10/20\n",
      "1000/1000 [==============================] - 99s 99ms/step - loss: 0.1036 - acc: 0.9594 - val_loss: 0.0977 - val_acc: 0.9600\n",
      "Epoch 11/20\n",
      "1000/1000 [==============================] - 101s 101ms/step - loss: 0.1017 - acc: 0.9593 - val_loss: 0.0969 - val_acc: 0.9630\n",
      "Epoch 12/20\n",
      "1000/1000 [==============================] - 102s 102ms/step - loss: 0.1016 - acc: 0.9596 - val_loss: 0.0936 - val_acc: 0.9643\n",
      "Epoch 13/20\n",
      "1000/1000 [==============================] - 102s 102ms/step - loss: 0.0996 - acc: 0.9603 - val_loss: 0.0946 - val_acc: 0.9610\n",
      "Epoch 14/20\n",
      "1000/1000 [==============================] - 102s 102ms/step - loss: 0.1014 - acc: 0.9595 - val_loss: 0.0968 - val_acc: 0.9597\n",
      "Epoch 15/20\n",
      "1000/1000 [==============================] - 102s 102ms/step - loss: 0.1000 - acc: 0.9602 - val_loss: 0.0968 - val_acc: 0.9607\n",
      "Epoch 16/20\n",
      "1000/1000 [==============================] - 102s 102ms/step - loss: 0.0981 - acc: 0.9606 - val_loss: 0.1003 - val_acc: 0.9613\n",
      "Epoch 17/20\n",
      "1000/1000 [==============================] - 102s 102ms/step - loss: 0.1002 - acc: 0.9601 - val_loss: 0.0929 - val_acc: 0.9637\n",
      "Epoch 18/20\n",
      "1000/1000 [==============================] - 103s 103ms/step - loss: 0.1006 - acc: 0.9603 - val_loss: 0.0966 - val_acc: 0.9580\n",
      "Epoch 19/20\n",
      "1000/1000 [==============================] - 104s 104ms/step - loss: 0.0931 - acc: 0.9628 - val_loss: 0.0955 - val_acc: 0.9623\n",
      "Epoch 20/20\n",
      "1000/1000 [==============================] - 103s 103ms/step - loss: 0.0938 - acc: 0.9625 - val_loss: 0.0949 - val_acc: 0.9603\n"
     ]
    },
    {
     "data": {
      "text/plain": [
       "<keras.callbacks.History at 0x1a2af7fb70>"
      ]
     },
     "execution_count": 10,
     "metadata": {},
     "output_type": "execute_result"
    }
   ],
   "source": [
    "model.fit(epochs=20,steps_per_epoch=1000, batch_size=500, validation_data=(xvalid_pad, yvalid),verbose=True)"
   ]
  },
  {
   "cell_type": "markdown",
   "metadata": {
    "_uuid": "d6cdda0e301be0b84e826e29f0f3a85c41aa6da9"
   },
   "source": [
    "# Inference"
   ]
  },
  {
   "cell_type": "code",
   "execution_count": 15,
   "metadata": {
    "collapsed": true
   },
   "outputs": [],
   "source": [
    "predictions = model.predict_proba(xvalid_pad)"
   ]
  },
  {
   "cell_type": "code",
   "execution_count": 33,
   "metadata": {},
   "outputs": [
    {
     "name": "stdout",
     "output_type": "stream",
     "text": [
      "threshold:  0\n",
      "accuracy 0.05733333333333333\n",
      "classification report:\n",
      "              precision    recall  f1-score   support\n",
      "\n",
      "           0       0.00      0.00      0.00      2828\n",
      "           1       0.06      1.00      0.11       172\n",
      "\n",
      "   micro avg       0.06      0.06      0.06      3000\n",
      "   macro avg       0.03      0.50      0.05      3000\n",
      "weighted avg       0.00      0.06      0.01      3000\n",
      "\n",
      "======================\n",
      "threshold:  0.0001\n",
      "accuracy 0.06666666666666667\n",
      "classification report:\n",
      "              precision    recall  f1-score   support\n",
      "\n",
      "           0       1.00      0.01      0.02      2828\n",
      "           1       0.06      1.00      0.11       172\n",
      "\n",
      "   micro avg       0.07      0.07      0.07      3000\n",
      "   macro avg       0.53      0.50      0.06      3000\n",
      "weighted avg       0.95      0.07      0.02      3000\n",
      "\n",
      "======================\n",
      "threshold:  0.001\n",
      "accuracy 0.34833333333333333\n",
      "classification report:\n",
      "              precision    recall  f1-score   support\n",
      "\n",
      "           0       1.00      0.31      0.47      2828\n",
      "           1       0.08      1.00      0.15       172\n",
      "\n",
      "   micro avg       0.35      0.35      0.35      3000\n",
      "   macro avg       0.54      0.65      0.31      3000\n",
      "weighted avg       0.95      0.35      0.45      3000\n",
      "\n",
      "======================\n",
      "threshold:  0.01\n",
      "accuracy 0.755\n",
      "classification report:\n",
      "              precision    recall  f1-score   support\n",
      "\n",
      "           0       1.00      0.74      0.85      2828\n",
      "           1       0.19      0.99      0.32       172\n",
      "\n",
      "   micro avg       0.76      0.76      0.76      3000\n",
      "   macro avg       0.59      0.86      0.58      3000\n",
      "weighted avg       0.95      0.76      0.82      3000\n",
      "\n",
      "======================\n",
      "threshold:  0.1\n",
      "accuracy 0.927\n",
      "classification report:\n",
      "              precision    recall  f1-score   support\n",
      "\n",
      "           0       0.99      0.93      0.96      2828\n",
      "           1       0.43      0.91      0.59       172\n",
      "\n",
      "   micro avg       0.93      0.93      0.93      3000\n",
      "   macro avg       0.71      0.92      0.77      3000\n",
      "weighted avg       0.96      0.93      0.94      3000\n",
      "\n",
      "======================\n",
      "threshold:  0.2\n",
      "accuracy 0.945\n",
      "classification report:\n",
      "              precision    recall  f1-score   support\n",
      "\n",
      "           0       0.99      0.95      0.97      2828\n",
      "           1       0.51      0.80      0.63       172\n",
      "\n",
      "   micro avg       0.94      0.94      0.94      3000\n",
      "   macro avg       0.75      0.88      0.80      3000\n",
      "weighted avg       0.96      0.94      0.95      3000\n",
      "\n",
      "======================\n",
      "threshold:  0.3\n",
      "accuracy 0.9553333333333334\n",
      "classification report:\n",
      "              precision    recall  f1-score   support\n",
      "\n",
      "           0       0.98      0.97      0.98      2828\n",
      "           1       0.59      0.73      0.65       172\n",
      "\n",
      "   micro avg       0.96      0.96      0.96      3000\n",
      "   macro avg       0.79      0.85      0.81      3000\n",
      "weighted avg       0.96      0.96      0.96      3000\n",
      "\n",
      "======================\n",
      "threshold:  0.4\n",
      "accuracy 0.959\n",
      "classification report:\n",
      "              precision    recall  f1-score   support\n",
      "\n",
      "           0       0.98      0.98      0.98      2828\n",
      "           1       0.64      0.65      0.65       172\n",
      "\n",
      "   micro avg       0.96      0.96      0.96      3000\n",
      "   macro avg       0.81      0.81      0.81      3000\n",
      "weighted avg       0.96      0.96      0.96      3000\n",
      "\n",
      "======================\n",
      "threshold:  0.5\n",
      "accuracy 0.9603333333333334\n",
      "classification report:\n",
      "              precision    recall  f1-score   support\n",
      "\n",
      "           0       0.98      0.98      0.98      2828\n",
      "           1       0.68      0.59      0.63       172\n",
      "\n",
      "   micro avg       0.96      0.96      0.96      3000\n",
      "   macro avg       0.83      0.79      0.80      3000\n",
      "weighted avg       0.96      0.96      0.96      3000\n",
      "\n",
      "======================\n",
      "threshold:  0.6\n",
      "accuracy 0.962\n",
      "classification report:\n",
      "              precision    recall  f1-score   support\n",
      "\n",
      "           0       0.97      0.99      0.98      2828\n",
      "           1       0.74      0.52      0.61       172\n",
      "\n",
      "   micro avg       0.96      0.96      0.96      3000\n",
      "   macro avg       0.85      0.76      0.80      3000\n",
      "weighted avg       0.96      0.96      0.96      3000\n",
      "\n",
      "======================\n",
      "threshold:  0.7\n",
      "accuracy 0.9586666666666667\n",
      "classification report:\n",
      "              precision    recall  f1-score   support\n",
      "\n",
      "           0       0.96      0.99      0.98      2828\n",
      "           1       0.76      0.41      0.53       172\n",
      "\n",
      "   micro avg       0.96      0.96      0.96      3000\n",
      "   macro avg       0.86      0.70      0.75      3000\n",
      "weighted avg       0.95      0.96      0.95      3000\n",
      "\n",
      "======================\n",
      "threshold:  0.8\n",
      "accuracy 0.9546666666666667\n",
      "classification report:\n",
      "              precision    recall  f1-score   support\n",
      "\n",
      "           0       0.96      1.00      0.98      2828\n",
      "           1       0.81      0.27      0.41       172\n",
      "\n",
      "   micro avg       0.95      0.95      0.95      3000\n",
      "   macro avg       0.88      0.63      0.69      3000\n",
      "weighted avg       0.95      0.95      0.94      3000\n",
      "\n",
      "======================\n",
      "threshold:  0.9\n",
      "accuracy 0.9463333333333334\n",
      "classification report:\n",
      "              precision    recall  f1-score   support\n",
      "\n",
      "           0       0.95      1.00      0.97      2828\n",
      "           1       0.82      0.08      0.15       172\n",
      "\n",
      "   micro avg       0.95      0.95      0.95      3000\n",
      "   macro avg       0.89      0.54      0.56      3000\n",
      "weighted avg       0.94      0.95      0.93      3000\n",
      "\n",
      "======================\n"
     ]
    },
    {
     "data": {
      "image/png": "[encoded data removed]",
      "text/plain": [
       "<Figure size 432x288 with 1 Axes>"
      ]
     },
     "metadata": {
      "needs_background": "light"
     },
     "output_type": "display_data"
    }
   ],
   "source": [
    "from sklearn.metrics import f1_score,log_loss,confusion_matrix,classification_report,roc_curve,auc, precision_recall_curve\n",
    "import matplotlib.pyplot as plt\n",
    "from sklearn.metrics import accuracy_score, classification_report, f1_score\n",
    "\n",
    "threshold = [0, 0.0001, 0.001, 0.01, 0.1, 0.2, 0.3, 0.4, 0.5, 0.6, 0.7, 0.8, 0.9]\n",
    "\n",
    "f1_scores = []\n",
    "preds = predictions\n",
    "\n",
    "for t in threshold:\n",
    "    y_pred = (np.array(preds) > t).astype(int)\n",
    "    print('threshold: ', t)\n",
    "    print('accuracy', accuracy_score(val_y, y_pred))\n",
    "    print('classification report:')\n",
    "    print(classification_report(val_y, y_pred))\n",
    "    print('======================')\n",
    "    f1_scores.append(f1_score(val_y, y_pred))\n",
    "\n",
    "\n",
    "plt.plot(threshold, f1_scores)\n",
    "plt.xlim(0, 1)\n",
    "plt.show()"
   ]
  },
  {
   "cell_type": "code",
   "execution_count": 20,
   "metadata": {},
   "outputs": [
    {
     "data": {
      "text/plain": [
       "[<matplotlib.lines.Line2D at 0x1a5b9a0ef0>]"
      ]
     },
     "execution_count": 20,
     "metadata": {},
     "output_type": "execute_result"
    },
    {
     "data": {
      "image/png": "[encoded data removed]",
      "text/plain": [
       "<Figure size 432x288 with 1 Axes>"
      ]
     },
     "metadata": {
      "needs_background": "light"
     },
     "output_type": "display_data"
    }
   ],
   "source": [
    "plt.plot(threshold, f1_scores)"
   ]
  },
  {
   "cell_type": "code",
   "execution_count": null,
   "metadata": {
    "_uuid": "3e6ed54def110c881f401c6f8a844752baedcfbd",
    "collapsed": true
   },
   "outputs": [],
   "source": [
    "y_te = (np.array(all_preds) > 0.5).astype(np.int)\n",
    "\n",
    "submit_df = pd.DataFrame({\"qid\": test_df[\"qid\"], \"prediction\": y_te})\n",
    "submit_df.to_csv(\"submission.csv\", index=False)"
   ]
  }
 ],
 "metadata": {
  "kernelspec": {
   "display_name": "Python 3",
   "language": "python",
   "name": "python3"
  },
  "language_info": {
   "codemirror_mode": {
    "name": "ipython",
    "version": 3
   },
   "file_extension": ".py",
   "mimetype": "text/x-python",
   "name": "python",
   "nbconvert_exporter": "python",
   "pygments_lexer": "ipython3",
   "version": "3.7.2"
  }
 },
 "nbformat": 4,
 "nbformat_minor": 1
}
