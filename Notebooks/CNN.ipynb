{
 "cells": [
  {
   "cell_type": "code",
   "execution_count": 1,
   "metadata": {},
   "outputs": [
    {
     "name": "stderr",
     "output_type": "stream",
     "text": [
      "Using TensorFlow backend.\n"
     ]
    }
   ],
   "source": [
    "import warnings\n",
    "warnings.filterwarnings(\"ignore\")\n",
    "import numpy as np\n",
    "import pandas as pd\n",
    "from sklearn.model_selection import train_test_split\n",
    "from sklearn.feature_extraction.text import TfidfVectorizer, CountVectorizer\n",
    "from sklearn.metrics import f1_score\n",
    "from sklearn.metrics import log_loss,confusion_matrix,classification_report,roc_curve,auc\n",
    "from sklearn.metrics import precision_recall_curve\n",
    "from keras.preprocessing import sequence, text\n",
    "from keras.callbacks import EarlyStopping\n",
    "from keras.layers import GlobalMaxPooling1D, Conv1D, MaxPooling1D, Flatten, Bidirectional, SpatialDropout1D\n",
    "from keras.models import Sequential\n",
    "from keras.layers.core import Dense, Activation, Dropout\n",
    "from keras.layers.embeddings import Embedding\n",
    "from keras.layers.normalization import BatchNormalization\n",
    "from keras.utils import np_utils\n",
    "from sklearn.metrics import f1_score\n",
    "from keras.models import Model\n",
    "from keras.layers import Input, Embedding, Dense, Conv2D, MaxPool2D\n",
    "from keras.layers import Reshape, Flatten, Concatenate, Dropout, SpatialDropout1D\n",
    "from keras.preprocessing import text, sequence\n",
    "from keras.callbacks import Callback"
   ]
  },
  {
   "cell_type": "code",
   "execution_count": 2,
   "metadata": {},
   "outputs": [
    {
     "data": {
      "text/html": [
       "<div>\n",
       "<style scoped>\n",
       "    .dataframe tbody tr th:only-of-type {\n",
       "        vertical-align: middle;\n",
       "    }\n",
       "\n",
       "    .dataframe tbody tr th {\n",
       "        vertical-align: top;\n",
       "    }\n",
       "\n",
       "    .dataframe thead th {\n",
       "        text-align: right;\n",
       "    }\n",
       "</style>\n",
       "<table border=\"1\" class=\"dataframe\">\n",
       "  <thead>\n",
       "    <tr style=\"text-align: right;\">\n",
       "      <th></th>\n",
       "      <th>qid</th>\n",
       "      <th>question_text</th>\n",
       "      <th>target</th>\n",
       "    </tr>\n",
       "  </thead>\n",
       "  <tbody>\n",
       "    <tr>\n",
       "      <th>0</th>\n",
       "      <td>00002165364db923c7e6</td>\n",
       "      <td>How did Quebec nationalists see their province...</td>\n",
       "      <td>0</td>\n",
       "    </tr>\n",
       "    <tr>\n",
       "      <th>1</th>\n",
       "      <td>000032939017120e6e44</td>\n",
       "      <td>Do you have an adopted dog, how would you enco...</td>\n",
       "      <td>0</td>\n",
       "    </tr>\n",
       "    <tr>\n",
       "      <th>2</th>\n",
       "      <td>0000412ca6e4628ce2cf</td>\n",
       "      <td>Why does velocity affect time? Does velocity a...</td>\n",
       "      <td>0</td>\n",
       "    </tr>\n",
       "    <tr>\n",
       "      <th>3</th>\n",
       "      <td>000042bf85aa498cd78e</td>\n",
       "      <td>How did Otto von Guericke used the Magdeburg h...</td>\n",
       "      <td>0</td>\n",
       "    </tr>\n",
       "    <tr>\n",
       "      <th>4</th>\n",
       "      <td>0000455dfa3e01eae3af</td>\n",
       "      <td>Can I convert montra helicon D to a mountain b...</td>\n",
       "      <td>0</td>\n",
       "    </tr>\n",
       "  </tbody>\n",
       "</table>\n",
       "</div>"
      ],
      "text/plain": [
       "                    qid                                      question_text  \\\n",
       "0  00002165364db923c7e6  How did Quebec nationalists see their province...   \n",
       "1  000032939017120e6e44  Do you have an adopted dog, how would you enco...   \n",
       "2  0000412ca6e4628ce2cf  Why does velocity affect time? Does velocity a...   \n",
       "3  000042bf85aa498cd78e  How did Otto von Guericke used the Magdeburg h...   \n",
       "4  0000455dfa3e01eae3af  Can I convert montra helicon D to a mountain b...   \n",
       "\n",
       "   target  \n",
       "0       0  \n",
       "1       0  \n",
       "2       0  \n",
       "3       0  \n",
       "4       0  "
      ]
     },
     "execution_count": 2,
     "metadata": {},
     "output_type": "execute_result"
    }
   ],
   "source": [
    "#load the data\n",
    "train = pd.read_csv(\"train.csv\")\n",
    "train.head()"
   ]
  },
  {
   "cell_type": "markdown",
   "metadata": {},
   "source": [
    "### defining features related to the CNN model"
   ]
  },
  {
   "cell_type": "code",
   "execution_count": 3,
   "metadata": {
    "collapsed": true
   },
   "outputs": [],
   "source": [
    "max_features = 40000\n",
    "maxlen = 70\n",
    "embed_size = 300\n",
    "threshold = 0.35\n",
    "filter_sizes = [1,2,3]\n",
    "num_filters = 42"
   ]
  },
  {
   "cell_type": "markdown",
   "metadata": {},
   "source": [
    "### Tokenization"
   ]
  },
  {
   "cell_type": "code",
   "execution_count": 4,
   "metadata": {
    "collapsed": true
   },
   "outputs": [],
   "source": [
    "train_, test_ = train_test_split(train,random_state=42, test_size=0.1, shuffle=True)\n",
    "train = train_.sample(frac = 0.05)\n",
    "test = test_.sample(frac = 0.05)\n",
    "\n",
    "X_train = train[\"question_text\"].fillna(\"fillna\").values\n",
    "y_train = train[\"target\"].values\n",
    "X_test = test[\"question_text\"].fillna(\"fillna\").values\n",
    "\n",
    "max_features = 40000\n",
    "maxlen = 50\n",
    "embed_size = 300\n",
    "\n",
    "tokenizer = text.Tokenizer(num_words=max_features)\n",
    "tokenizer.fit_on_texts(list(X_train) + list(X_test))\n",
    "X_train = tokenizer.texts_to_sequences(X_train)\n",
    "X_test = tokenizer.texts_to_sequences(X_test)\n",
    "x_train = sequence.pad_sequences(X_train, maxlen=maxlen)\n",
    "x_test = sequence.pad_sequences(X_test, maxlen=maxlen)"
   ]
  },
  {
   "cell_type": "markdown",
   "metadata": {},
   "source": [
    "### Getting word Embeddings from Glove"
   ]
  },
  {
   "cell_type": "code",
   "execution_count": 5,
   "metadata": {
    "collapsed": true
   },
   "outputs": [],
   "source": [
    "EMBEDDING_FILE = 'glove.840B.300d.txt'\n",
    "def get_coefs(word,*arr): \n",
    "    return word, np.asarray(arr, dtype='float32')\n",
    "\n",
    "embeddings_index = dict(get_coefs(*o.split(\" \")) for o in open(EMBEDDING_FILE))\n",
    "\n",
    "def get_coefs(word, *arr): return word, np.asarray(arr, dtype='float32')\n",
    "embeddings_index = dict(get_coefs(*o.rstrip().rsplit(' ')) for o in open(EMBEDDING_FILE))\n",
    "\n",
    "word_index = tokenizer.word_index\n",
    "nb_words = min(max_features, len(word_index))\n",
    "embedding_matrix = np.zeros((nb_words, embed_size))\n",
    "for word, i in word_index.items():\n",
    "    if i >= max_features: continue\n",
    "    embedding_vector = embeddings_index.get(word)\n",
    "    if embedding_vector is not None: embedding_matrix[i] = embedding_vector"
   ]
  },
  {
   "cell_type": "markdown",
   "metadata": {},
   "source": [
    "### Building the Model"
   ]
  },
  {
   "cell_type": "code",
   "execution_count": 7,
   "metadata": {},
   "outputs": [
    {
     "name": "stdout",
     "output_type": "stream",
     "text": [
      "WARNING:tensorflow:From /usr/local/lib/python2.7/site-packages/keras/backend/tensorflow_backend.py:1264: calling reduce_prod_v1 (from tensorflow.python.ops.math_ops) with keep_dims is deprecated and will be removed in a future version.\n",
      "Instructions for updating:\n",
      "keep_dims is deprecated, use keepdims instead\n"
     ]
    }
   ],
   "source": [
    "filter_sizes = [1,2,3]\n",
    "num_filters = 40\n",
    "from keras.layers import Conv1D, MaxPool1D, BatchNormalization\n",
    "\n",
    "def buildCNN():    \n",
    "    inp = Input(shape=(maxlen, ))\n",
    "    x = Embedding(max_features, 300, weights=[embedding_matrix])(inp)\n",
    "    x = SpatialDropout1D(0.4)(x)\n",
    "    \n",
    "    conv1 = Conv1D(num_filters, kernel_size=(filter_sizes[0]),\n",
    "                                 kernel_initializer='he_normal', activation='elu')(x)\n",
    "    conv2 = Conv1D(num_filters, kernel_size=(filter_sizes[1]),\n",
    "                                 kernel_initializer='he_normal', activation='elu')(x)\n",
    "    conv3 = Conv1D(num_filters, kernel_size=(filter_sizes[2]), \n",
    "                                 kernel_initializer='he_normal', activation='elu')(x)\n",
    "    \n",
    "    maxpool1 = MaxPool1D(pool_size=(maxlen - filter_sizes[0] + 1))(conv1)\n",
    "    maxpool2 = MaxPool1D(pool_size=(maxlen - filter_sizes[1] + 1))(conv2)\n",
    "    maxpool3 = MaxPool1D(pool_size=(maxlen - filter_sizes[2] + 1))(conv3)\n",
    "        \n",
    "    z = Concatenate(axis=1)([maxpool0, maxpool1, maxpool2])   \n",
    "    z = Flatten()(z)\n",
    "    z = BatchNormalization()(z)\n",
    "        \n",
    "    output = Dense(1, activation=\"sigmoid\")(z)\n",
    "    model = Model(inputs=inp, outputs=output)\n",
    "    model.compile(loss='binary_crossentropy',optimizer='adam',metrics=['accuracy'])\n",
    "\n",
    "    return model\n",
    "\n",
    "model = buildCNN()"
   ]
  },
  {
   "cell_type": "code",
   "execution_count": 9,
   "metadata": {},
   "outputs": [
    {
     "name": "stdout",
     "output_type": "stream",
     "text": [
      "__________________________________________________________________________________________________\n",
      "Layer (type)                    Output Shape         Param #     Connected to                     \n",
      "==================================================================================================\n",
      "input_2 (InputLayer)            (None, 50)           0                                            \n",
      "__________________________________________________________________________________________________\n",
      "embedding_2 (Embedding)         (None, 50, 300)      12000000    input_2[0][0]                    \n",
      "__________________________________________________________________________________________________\n",
      "spatial_dropout1d_2 (SpatialDro (None, 50, 300)      0           embedding_2[0][0]                \n",
      "__________________________________________________________________________________________________\n",
      "conv1d_4 (Conv1D)               (None, 50, 40)       12040       spatial_dropout1d_2[0][0]        \n",
      "__________________________________________________________________________________________________\n",
      "conv1d_5 (Conv1D)               (None, 49, 40)       24040       spatial_dropout1d_2[0][0]        \n",
      "__________________________________________________________________________________________________\n",
      "conv1d_6 (Conv1D)               (None, 48, 40)       36040       spatial_dropout1d_2[0][0]        \n",
      "__________________________________________________________________________________________________\n",
      "max_pooling1d_4 (MaxPooling1D)  (None, 1, 40)        0           conv1d_4[0][0]                   \n",
      "__________________________________________________________________________________________________\n",
      "max_pooling1d_5 (MaxPooling1D)  (None, 1, 40)        0           conv1d_5[0][0]                   \n",
      "__________________________________________________________________________________________________\n",
      "max_pooling1d_6 (MaxPooling1D)  (None, 1, 40)        0           conv1d_6[0][0]                   \n",
      "__________________________________________________________________________________________________\n",
      "concatenate_2 (Concatenate)     (None, 3, 40)        0           max_pooling1d_4[0][0]            \n",
      "                                                                 max_pooling1d_5[0][0]            \n",
      "                                                                 max_pooling1d_6[0][0]            \n",
      "__________________________________________________________________________________________________\n",
      "flatten_1 (Flatten)             (None, 120)          0           concatenate_2[0][0]              \n",
      "__________________________________________________________________________________________________\n",
      "batch_normalization_1 (BatchNor (None, 120)          480         flatten_1[0][0]                  \n",
      "__________________________________________________________________________________________________\n",
      "dense_1 (Dense)                 (None, 1)            121         batch_normalization_1[0][0]      \n",
      "==================================================================================================\n",
      "Total params: 12,072,721\n",
      "Trainable params: 12,072,481\n",
      "Non-trainable params: 240\n",
      "__________________________________________________________________________________________________\n",
      "None\n"
     ]
    }
   ],
   "source": [
    "print model.summary()"
   ]
  },
  {
   "cell_type": "code",
   "execution_count": 10,
   "metadata": {
    "collapsed": true
   },
   "outputs": [],
   "source": [
    "X_tra, X_val, y_tra, y_val = train_test_split(x_train, y_train, train_size=0.80,random_state=42)"
   ]
  },
  {
   "cell_type": "code",
   "execution_count": 16,
   "metadata": {},
   "outputs": [
    {
     "name": "stdout",
     "output_type": "stream",
     "text": [
      "Train on 55836 samples, validate on 2939 samples\n",
      "Epoch 1/10\n",
      "55836/55836 [==============================] - 68s 1ms/step - loss: 0.1283 - acc: 0.9571 - val_loss: 0.1305 - val_acc: 0.9500\n",
      "Epoch 2/10\n",
      "55836/55836 [==============================] - 64s 1ms/step - loss: 0.1079 - acc: 0.9622 - val_loss: 0.1245 - val_acc: 0.9520\n",
      "Epoch 3/10\n",
      "55836/55836 [==============================] - 60s 1ms/step - loss: 0.0949 - acc: 0.9658 - val_loss: 0.1250 - val_acc: 0.9544\n",
      "Epoch 4/10\n",
      "55836/55836 [==============================] - 59s 1ms/step - loss: 0.0854 - acc: 0.9693 - val_loss: 0.1234 - val_acc: 0.9537\n",
      "Epoch 5/10\n",
      "55836/55836 [==============================] - 66s 1ms/step - loss: 0.0738 - acc: 0.9739 - val_loss: 0.1287 - val_acc: 0.9520\n",
      "Epoch 6/10\n",
      "55836/55836 [==============================] - 70s 1ms/step - loss: 0.0659 - acc: 0.9763 - val_loss: 0.1271 - val_acc: 0.9537\n",
      "Epoch 7/10\n",
      "55836/55836 [==============================] - 61s 1ms/step - loss: 0.0593 - acc: 0.9785 - val_loss: 0.1293 - val_acc: 0.9517\n",
      "Epoch 8/10\n",
      "55836/55836 [==============================] - 63s 1ms/step - loss: 0.0531 - acc: 0.9809 - val_loss: 0.1300 - val_acc: 0.9544\n",
      "Epoch 9/10\n",
      "55836/55836 [==============================] - 64s 1ms/step - loss: 0.0470 - acc: 0.9839 - val_loss: 0.1322 - val_acc: 0.9547\n",
      "Epoch 10/10\n",
      "55836/55836 [==============================] - 65s 1ms/step - loss: 0.0415 - acc: 0.9857 - val_loss: 0.1335 - val_acc: 0.9537\n"
     ]
    }
   ],
   "source": [
    "epoch_runs = model.fit(X_tra, y_tra, batch_size=1024, epochs=10,\n",
    "                 validation_data=(X_val, y_val),verbose=True)"
   ]
  },
  {
   "cell_type": "code",
   "execution_count": 17,
   "metadata": {
    "collapsed": true
   },
   "outputs": [],
   "source": [
    "from sklearn.metrics import accuracy_score, f1_score, precision_score, recall_score, classification_report"
   ]
  },
  {
   "cell_type": "code",
   "execution_count": 21,
   "metadata": {},
   "outputs": [
    {
     "name": "stdout",
     "output_type": "stream",
     "text": [
      "threshold:  0.0001\n",
      "accuracy 0.20347056822048315\n",
      "classification report:\n",
      "              precision    recall  f1-score   support\n",
      "\n",
      "           0       1.00      0.15      0.26      2763\n",
      "           1       0.07      1.00      0.13       176\n",
      "\n",
      "   micro avg       0.20      0.20      0.20      2939\n",
      "   macro avg       0.53      0.58      0.20      2939\n",
      "weighted avg       0.94      0.20      0.26      2939\n",
      "\n",
      "======================\n",
      "threshold:  0.001\n",
      "accuracy 0.5767267778155836\n",
      "classification report:\n",
      "              precision    recall  f1-score   support\n",
      "\n",
      "           0       1.00      0.55      0.71      2763\n",
      "           1       0.12      0.98      0.22       176\n",
      "\n",
      "   micro avg       0.58      0.58      0.58      2939\n",
      "   macro avg       0.56      0.77      0.46      2939\n",
      "weighted avg       0.95      0.58      0.68      2939\n",
      "\n",
      "======================\n",
      "threshold:  0.01\n",
      "accuracy 0.8451854372235454\n",
      "classification report:\n",
      "              precision    recall  f1-score   support\n",
      "\n",
      "           0       0.99      0.84      0.91      2763\n",
      "           1       0.27      0.90      0.41       176\n",
      "\n",
      "   micro avg       0.85      0.85      0.85      2939\n",
      "   macro avg       0.63      0.87      0.66      2939\n",
      "weighted avg       0.95      0.85      0.88      2939\n",
      "\n",
      "======================\n",
      "threshold:  0.1\n",
      "accuracy 0.93841442667574\n",
      "classification report:\n",
      "              precision    recall  f1-score   support\n",
      "\n",
      "           0       0.98      0.95      0.97      2763\n",
      "           1       0.49      0.71      0.58       176\n",
      "\n",
      "   micro avg       0.94      0.94      0.94      2939\n",
      "   macro avg       0.74      0.83      0.77      2939\n",
      "weighted avg       0.95      0.94      0.94      2939\n",
      "\n",
      "======================\n",
      "threshold:  0.2\n",
      "accuracy 0.9513439945559714\n",
      "classification report:\n",
      "              precision    recall  f1-score   support\n",
      "\n",
      "           0       0.98      0.97      0.97      2763\n",
      "           1       0.59      0.62      0.60       176\n",
      "\n",
      "   micro avg       0.95      0.95      0.95      2939\n",
      "   macro avg       0.78      0.80      0.79      2939\n",
      "weighted avg       0.95      0.95      0.95      2939\n",
      "\n",
      "======================\n",
      "threshold:  0.3\n",
      "accuracy 0.9567880231371215\n",
      "classification report:\n",
      "              precision    recall  f1-score   support\n",
      "\n",
      "           0       0.97      0.98      0.98      2763\n",
      "           1       0.67      0.55      0.60       176\n",
      "\n",
      "   micro avg       0.96      0.96      0.96      2939\n",
      "   macro avg       0.82      0.77      0.79      2939\n",
      "weighted avg       0.95      0.96      0.95      2939\n",
      "\n",
      "======================\n",
      "threshold:  0.4\n",
      "accuracy 0.9567880231371215\n",
      "classification report:\n",
      "              precision    recall  f1-score   support\n",
      "\n",
      "           0       0.97      0.99      0.98      2763\n",
      "           1       0.70      0.49      0.58       176\n",
      "\n",
      "   micro avg       0.96      0.96      0.96      2939\n",
      "   macro avg       0.83      0.74      0.78      2939\n",
      "weighted avg       0.95      0.96      0.95      2939\n",
      "\n",
      "======================\n",
      "threshold:  0.5\n",
      "accuracy 0.9537257570602246\n",
      "classification report:\n",
      "              precision    recall  f1-score   support\n",
      "\n",
      "           0       0.96      0.99      0.98      2763\n",
      "           1       0.69      0.41      0.52       176\n",
      "\n",
      "   micro avg       0.95      0.95      0.95      2939\n",
      "   macro avg       0.83      0.70      0.75      2939\n",
      "weighted avg       0.95      0.95      0.95      2939\n",
      "\n",
      "======================\n",
      "threshold:  0.6\n",
      "accuracy 0.9533855052739026\n",
      "classification report:\n",
      "              precision    recall  f1-score   support\n",
      "\n",
      "           0       0.96      0.99      0.98      2763\n",
      "           1       0.72      0.36      0.48       176\n",
      "\n",
      "   micro avg       0.95      0.95      0.95      2939\n",
      "   macro avg       0.84      0.67      0.73      2939\n",
      "weighted avg       0.95      0.95      0.95      2939\n",
      "\n",
      "======================\n",
      "threshold:  0.7\n",
      "accuracy 0.9499829874106839\n",
      "classification report:\n",
      "              precision    recall  f1-score   support\n",
      "\n",
      "           0       0.96      0.99      0.97      2763\n",
      "           1       0.72      0.27      0.40       176\n",
      "\n",
      "   micro avg       0.95      0.95      0.95      2939\n",
      "   macro avg       0.84      0.63      0.68      2939\n",
      "weighted avg       0.94      0.95      0.94      2939\n",
      "\n",
      "======================\n",
      "threshold:  0.8\n",
      "accuracy 0.9503232391970058\n",
      "classification report:\n",
      "              precision    recall  f1-score   support\n",
      "\n",
      "           0       0.95      1.00      0.97      2763\n",
      "           1       0.80      0.23      0.35       176\n",
      "\n",
      "   micro avg       0.95      0.95      0.95      2939\n",
      "   macro avg       0.88      0.61      0.66      2939\n",
      "weighted avg       0.94      0.95      0.94      2939\n",
      "\n",
      "======================\n",
      "threshold:  0.9\n",
      "accuracy 0.9476012249064307\n",
      "classification report:\n",
      "              precision    recall  f1-score   support\n",
      "\n",
      "           0       0.95      1.00      0.97      2763\n",
      "           1       0.84      0.15      0.26       176\n",
      "\n",
      "   micro avg       0.95      0.95      0.95      2939\n",
      "   macro avg       0.90      0.58      0.62      2939\n",
      "weighted avg       0.94      0.95      0.93      2939\n",
      "\n",
      "======================\n"
     ]
    }
   ],
   "source": [
    "threshold = [0.0001, 0.001, 0.01, 0.1, 0.2, 0.3, 0.4, 0.5, 0.6, 0.7, 0.8, 0.9]\n",
    "\n",
    "predictions = model.predict(X_val)\n",
    "f1_scores = []\n",
    "\n",
    "for t in threshold:\n",
    "    y_pred = (predictions > t).astype(int)\n",
    "    print 'threshold: ', t\n",
    "    print 'accuracy', accuracy_score(y_val, y_pred)\n",
    "    print 'classification report:'\n",
    "    print classification_report(y_val, y_pred)\n",
    "    print '======================'\n",
    "    f1_scores.append(f1_score(y_val, y_pred))"
   ]
  },
  {
   "cell_type": "code",
   "execution_count": 22,
   "metadata": {},
   "outputs": [
    {
     "data": {
      "image/png": "[encoded data removed]",
      "text/plain": [
       "<Figure size 432x288 with 1 Axes>"
      ]
     },
     "metadata": {},
     "output_type": "display_data"
    }
   ],
   "source": [
    "import matplotlib.pyplot as plt\n",
    "plt.plot(threshold, f1_scores)\n",
    "plt.xlim(0,1)\n",
    "plt.ylim(0,1)\n",
    "plt.ylabel('F1 scores')\n",
    "plt.xlabel('Thresholds')\n",
    "plt.show()"
   ]
  }
 ],
 "metadata": {
  "kernelspec": {
   "display_name": "Python 2",
   "language": "python",
   "name": "python2"
  },
  "language_info": {
   "codemirror_mode": {
    "name": "ipython",
    "version": 2
   },
   "file_extension": ".py",
   "mimetype": "text/x-python",
   "name": "python",
   "nbconvert_exporter": "python",
   "pygments_lexer": "ipython2",
   "version": "2.7.15"
  }
 },
 "nbformat": 4,
 "nbformat_minor": 2
}
